{
 "cells": [
  {
   "cell_type": "code",
   "execution_count": 1,
   "id": "quarterly-poultry",
   "metadata": {},
   "outputs": [],
   "source": [
    "import gspread\n",
    "from oauth2client.service_account import ServiceAccountCredentials\n",
    "from pprint import pprint\n",
    "import os\n",
    "import pandas as pd\n",
    "import numpy as np\n",
    "from test_email import generate_email\n",
    "from dotenv import load_dotenv"
   ]
  },
  {
   "cell_type": "markdown",
   "id": "impossible-research",
   "metadata": {},
   "source": [
    "Code snippet to import the google sheet under consideration"
   ]
  },
  {
   "cell_type": "code",
   "execution_count": 2,
   "id": "classical-commodity",
   "metadata": {},
   "outputs": [],
   "source": [
    "load_dotenv()\n",
    "\n",
    "scope = [\"https://spreadsheets.google.com/feeds\",\n",
    "         'https://www.googleapis.com/auth/spreadsheets',\n",
    "         \"https://www.googleapis.com/auth/drive.file\",\n",
    "         \"https://www.googleapis.com/auth/drive\"]\n",
    "\n",
    "creds = ServiceAccountCredentials.from_json_keyfile_name('credentials.json' , scope)\n",
    "client = gspread.authorize(creds)\n",
    "\n",
    "sheet = client.open(\"sample_sheet\").sheet1\n",
    "data = sheet.get_all_records()"
   ]
  },
  {
   "cell_type": "code",
   "execution_count": 3,
   "id": "steady-determination",
   "metadata": {},
   "outputs": [
    {
     "data": {
      "text/plain": [
       "[{'Order_No': 1206333,\n",
       "  'Name': 'KalpAna sareesh',\n",
       "  'Email_ID': '2019ume0203@iitjammu.ac.in',\n",
       "  'Tracking_Details': 2582910068165,\n",
       "  'Ref_no_Refund': 'NEHA1399',\n",
       "  'Amount': 1399,\n",
       "  'Template': 'Return: Pickup Filed',\n",
       "  'Email_Status': 'TRUE'},\n",
       " {'Order_No': 1206151,\n",
       "  'Name': 'Nisha Pandey',\n",
       "  'Email_ID': '2019ume0203@iitjammu.ac.in',\n",
       "  'Tracking_Details': 2582910067841,\n",
       "  'Ref_no_Refund': 658465169843561,\n",
       "  'Amount': 651,\n",
       "  'Template': 'Exchange Order: Pickup Filed',\n",
       "  'Email_Status': 'TRUE'},\n",
       " {'Order_No': 1206290,\n",
       "  'Name': 'M Maga',\n",
       "  'Email_ID': '2019ume0203@iitjammu.ac.in',\n",
       "  'Tracking_Details': 2582910067863,\n",
       "  'Ref_no_Refund': 5564,\n",
       "  'Amount': 564698,\n",
       "  'Template': 'Refund Completed COD',\n",
       "  'Email_Status': 'TRUE'},\n",
       " {'Order_No': 1206343,\n",
       "  'Name': 'Dr Neha Patel',\n",
       "  'Email_ID': '2019ume0203@iitjammu.ac.in',\n",
       "  'Tracking_Details': 3948302304839,\n",
       "  'Ref_no_Refund': 'AIOJWE1232',\n",
       "  'Amount': 5681,\n",
       "  'Template': 'Refund Completed Prepaid',\n",
       "  'Email_Status': 'TRUE'},\n",
       " {'Order_No': 1206568,\n",
       "  'Name': 'Yash Jain',\n",
       "  'Email_ID': '2019ume0203@iitjammu.ac.in',\n",
       "  'Tracking_Details': 3948302304839,\n",
       "  'Ref_no_Refund': 'NEHA1399',\n",
       "  'Amount': 26854,\n",
       "  'Template': 'Exchange Request: Size 6 Confirmation',\n",
       "  'Email_Status': 'TRUE'},\n",
       " {'Order_No': 1206578,\n",
       "  'Name': 'Pulkit_Mhj',\n",
       "  'Email_ID': '2019ume0203@iitjammu.ac.in',\n",
       "  'Tracking_Details': 3948302304839,\n",
       "  'Ref_no_Refund': 'paytm_187213123',\n",
       "  'Amount': 100,\n",
       "  'Template': 'Exchange order: Manifested',\n",
       "  'Email_Status': 'FALSE'}]"
      ]
     },
     "execution_count": 3,
     "metadata": {},
     "output_type": "execute_result"
    }
   ],
   "source": [
    "data"
   ]
  },
  {
   "cell_type": "markdown",
   "id": "personalized-carol",
   "metadata": {},
   "source": [
    "try:<br>\n",
    "    run this code<br>\n",
    "except Exception:<br>\n",
    "    run this code if an exception occurs<br>\n",
    "else:<br>\n",
    "    run this if no exception occurs<br>\n",
    "finally:<br>\n",
    "    always run this code<br>\n"
   ]
  },
  {
   "cell_type": "code",
   "execution_count": null,
   "id": "accessible-charter",
   "metadata": {
    "scrolled": true
   },
   "outputs": [],
   "source": [
    "psswd = input('Enter your password: ')\n",
    "\n",
    "for (index, entry) in enumerate(data):\n",
    "    try:\n",
    "        print(\"\\nEmail Generation Initiated\")\n",
    "        generate_email(entry_dict = entry, password = psswd)\n",
    "    except Exception:\n",
    "        print(\"Error occured, Email could not be sent to {name} {order_no}\".format(name = entry['Name'].capitalize(),order_no = entry['Order_No']))\n",
    "    \n",
    "    else:\n",
    "        print(\"Email successfully sent to {name}, {order_no}\".format(name = entry['Name'],order_no = entry['Order_No']))\n",
    "        sheet.update_cell(row = index+2 , col = 8, value=True)\n",
    "    finally:\n",
    "        if index == len(data)-1: print('Finished with all entries\\n')\n",
    "        else : print(\"Moving to next entry \\n\")\n",
    "        \n",
    "    "
   ]
  },
  {
   "cell_type": "code",
   "execution_count": null,
   "id": "front-publicity",
   "metadata": {},
   "outputs": [],
   "source": []
  },
  {
   "cell_type": "code",
   "execution_count": null,
   "id": "solved-scholar",
   "metadata": {},
   "outputs": [],
   "source": []
  },
  {
   "cell_type": "code",
   "execution_count": null,
   "id": "extensive-panel",
   "metadata": {},
   "outputs": [],
   "source": []
  },
  {
   "cell_type": "code",
   "execution_count": null,
   "id": "official-stable",
   "metadata": {},
   "outputs": [],
   "source": []
  },
  {
   "cell_type": "code",
   "execution_count": null,
   "id": "possible-dispatch",
   "metadata": {},
   "outputs": [],
   "source": []
  },
  {
   "cell_type": "code",
   "execution_count": null,
   "id": "bibliographic-survivor",
   "metadata": {},
   "outputs": [],
   "source": []
  },
  {
   "cell_type": "code",
   "execution_count": 4,
   "id": "naughty-practitioner",
   "metadata": {},
   "outputs": [
    {
     "name": "stdout",
     "output_type": "stream",
     "text": [
      "2019ume0203@iitjammu.ac.in\n",
      "2019ume0203@iitjammu.ac.in\n",
      "2019ume0203@iitjammu.ac.in\n",
      "2019ume0203@iitjammu.ac.in\n",
      "2019ume0203@iitjammu.ac.in\n",
      "2019ume0203@iitjammu.ac.in\n"
     ]
    },
    {
     "ename": "TypeError",
     "evalue": "cannot unpack non-iterable NoneType object",
     "output_type": "error",
     "traceback": [
      "\u001b[1;31m---------------------------------------------------------------------------\u001b[0m",
      "\u001b[1;31mTypeError\u001b[0m                                 Traceback (most recent call last)",
      "\u001b[1;32m<ipython-input-4-a4c8bf3c7ce2>\u001b[0m in \u001b[0;36m<module>\u001b[1;34m\u001b[0m\n\u001b[0;32m      6\u001b[0m     \u001b[0mprint\u001b[0m\u001b[1;33m(\u001b[0m\u001b[0mentry\u001b[0m\u001b[1;33m[\u001b[0m\u001b[1;34m'Email_ID'\u001b[0m\u001b[1;33m]\u001b[0m\u001b[1;33m)\u001b[0m\u001b[1;33m\u001b[0m\u001b[1;33m\u001b[0m\u001b[0m\n\u001b[0;32m      7\u001b[0m \u001b[1;33m\u001b[0m\u001b[0m\n\u001b[1;32m----> 8\u001b[1;33m     \u001b[0mgenerate_email\u001b[0m\u001b[1;33m(\u001b[0m\u001b[0mentry_dict\u001b[0m \u001b[1;33m=\u001b[0m \u001b[0mentry\u001b[0m \u001b[1;33m,\u001b[0m \u001b[0mpassword\u001b[0m \u001b[1;33m=\u001b[0m \u001b[0mpsswd\u001b[0m\u001b[1;33m)\u001b[0m\u001b[1;33m\u001b[0m\u001b[1;33m\u001b[0m\u001b[0m\n\u001b[0m\u001b[0;32m      9\u001b[0m \u001b[1;31m#     sheet.update_cell(row = index+2, col =8,value= True)\u001b[0m\u001b[1;33m\u001b[0m\u001b[1;33m\u001b[0m\u001b[1;33m\u001b[0m\u001b[0m\n",
      "\u001b[1;32mD:\\acer\\Projects\\yash\\test_email.py\u001b[0m in \u001b[0;36mgenerate_email\u001b[1;34m(entry_dict, password)\u001b[0m\n\u001b[0;32m     49\u001b[0m \u001b[1;33m\u001b[0m\u001b[0m\n\u001b[0;32m     50\u001b[0m \u001b[1;33m\u001b[0m\u001b[0m\n\u001b[1;32m---> 51\u001b[1;33m     \u001b[1;33m(\u001b[0m\u001b[0mtext\u001b[0m\u001b[1;33m,\u001b[0m \u001b[0mhtml\u001b[0m\u001b[1;33m)\u001b[0m \u001b[1;33m=\u001b[0m \u001b[0mgiveTemplate\u001b[0m\u001b[1;33m(\u001b[0m\u001b[0mtemplate\u001b[0m\u001b[1;33m)\u001b[0m\u001b[1;33m\u001b[0m\u001b[1;33m\u001b[0m\u001b[0m\n\u001b[0m\u001b[0;32m     52\u001b[0m     \u001b[0mpart1\u001b[0m \u001b[1;33m=\u001b[0m \u001b[0mMIMEText\u001b[0m\u001b[1;33m(\u001b[0m\u001b[0mtext\u001b[0m\u001b[1;33m.\u001b[0m\u001b[0mformat\u001b[0m\u001b[1;33m(\u001b[0m\u001b[0mname\u001b[0m \u001b[1;33m=\u001b[0m \u001b[0mname\u001b[0m\u001b[1;33m,\u001b[0m \u001b[0mtracking_details\u001b[0m \u001b[1;33m=\u001b[0m \u001b[0mtracking_details\u001b[0m\u001b[1;33m,\u001b[0m \u001b[0morder_id\u001b[0m \u001b[1;33m=\u001b[0m \u001b[0morder_no\u001b[0m\u001b[1;33m,\u001b[0m \u001b[0mref_no_refund\u001b[0m \u001b[1;33m=\u001b[0m \u001b[0mref_no_refund\u001b[0m\u001b[1;33m,\u001b[0m \u001b[0mamount\u001b[0m \u001b[1;33m=\u001b[0m \u001b[0mamount\u001b[0m \u001b[1;33m)\u001b[0m\u001b[1;33m,\u001b[0m \u001b[1;34m\"plain\"\u001b[0m\u001b[1;33m)\u001b[0m\u001b[1;33m\u001b[0m\u001b[1;33m\u001b[0m\u001b[0m\n\u001b[0;32m     53\u001b[0m     \u001b[0mpart2\u001b[0m \u001b[1;33m=\u001b[0m \u001b[0mMIMEText\u001b[0m\u001b[1;33m(\u001b[0m\u001b[0mhtml\u001b[0m\u001b[1;33m.\u001b[0m\u001b[0mformat\u001b[0m\u001b[1;33m(\u001b[0m\u001b[0mname\u001b[0m \u001b[1;33m=\u001b[0m \u001b[0mname\u001b[0m\u001b[1;33m,\u001b[0m \u001b[0mtracking_details\u001b[0m \u001b[1;33m=\u001b[0m \u001b[0mtracking_details\u001b[0m\u001b[1;33m,\u001b[0m \u001b[0morder_id\u001b[0m \u001b[1;33m=\u001b[0m \u001b[0morder_no\u001b[0m\u001b[1;33m,\u001b[0m \u001b[0mref_no_refund\u001b[0m \u001b[1;33m=\u001b[0m \u001b[0mref_no_refund\u001b[0m\u001b[1;33m,\u001b[0m \u001b[0mamount\u001b[0m \u001b[1;33m=\u001b[0m \u001b[0mamount\u001b[0m \u001b[1;33m)\u001b[0m\u001b[1;33m,\u001b[0m \u001b[1;34m\"html\"\u001b[0m\u001b[1;33m)\u001b[0m\u001b[1;33m\u001b[0m\u001b[1;33m\u001b[0m\u001b[0m\n",
      "\u001b[1;31mTypeError\u001b[0m: cannot unpack non-iterable NoneType object"
     ]
    }
   ],
   "source": [
    "# from test_email import generate_email\n",
    "\n",
    "# psswd = input(\"Enter your password: \")\n",
    "psswd = ''\n",
    "for(index, entry) in enumerate(data):\n",
    "    print(entry['Email_ID'])\n",
    "    \n",
    "    generate_email(entry_dict = entry , password = psswd)\n",
    "#     sheet.update_cell(row = index+2, col =8,value= True)"
   ]
  },
  {
   "cell_type": "code",
   "execution_count": 100,
   "id": "ready-gender",
   "metadata": {},
   "outputs": [
    {
     "data": {
      "text/plain": [
       "[{'Order_No': 1206333,\n",
       "  'Name': 'KalpAna sareesh',\n",
       "  'Email_ID': 'yashjaincp@gmail.com',\n",
       "  'Tracking_Details': 2582910068165,\n",
       "  'Ref_no_Refund': '',\n",
       "  'Amount': '',\n",
       "  'Template': 'Size 6 Exchanges',\n",
       "  'Email_Status': 'TRUE'},\n",
       " {'Order_No': 1206151,\n",
       "  'Name': 'Nisha Pandey',\n",
       "  'Email_ID': 'pulkitmahajan0402@gmail.com',\n",
       "  'Tracking_Details': 2582910067841,\n",
       "  'Ref_no_Refund': '',\n",
       "  'Amount': '',\n",
       "  'Template': 'Size 6 Exchanges',\n",
       "  'Email_Status': 'TRUE'},\n",
       " {'Order_No': 1206290,\n",
       "  'Name': 'Tanya Singh',\n",
       "  'Email_ID': 'temporary2021000@gmail.com',\n",
       "  'Tracking_Details': 2582910067863,\n",
       "  'Ref_no_Refund': '',\n",
       "  'Amount': '',\n",
       "  'Template': 'Size 6 Exchanges',\n",
       "  'Email_Status': 'TRUE'},\n",
       " {'Order_No': 1206343,\n",
       "  'Name': 'Parwaan Virk',\n",
       "  'Email_ID': '2019uee0111@iitjammu.ac.in',\n",
       "  'Tracking_Details': 3948302304839,\n",
       "  'Ref_no_Refund': '',\n",
       "  'Amount': '',\n",
       "  'Template': 'Size 6 Exchanges',\n",
       "  'Email_Status': 'TRUE'}]"
      ]
     },
     "execution_count": 100,
     "metadata": {},
     "output_type": "execute_result"
    }
   ],
   "source": [
    "data"
   ]
  },
  {
   "cell_type": "code",
   "execution_count": 103,
   "id": "sorted-posting",
   "metadata": {},
   "outputs": [
    {
     "name": "stdout",
     "output_type": "stream",
     "text": [
      "yashjaincp@gmail.com\n",
      "pulkitmahajan0402@gmail.com\n",
      "temporary2021000@gmail.com\n",
      "2019uee0111@iitjammu.ac.in\n"
     ]
    }
   ],
   "source": [
    "for(index, entry) in enumerate(data):\n",
    "    print(entry['Email_ID'])"
   ]
  },
  {
   "cell_type": "code",
   "execution_count": 101,
   "id": "tested-zealand",
   "metadata": {},
   "outputs": [
    {
     "data": {
      "text/plain": [
       "4"
      ]
     },
     "execution_count": 101,
     "metadata": {},
     "output_type": "execute_result"
    }
   ],
   "source": [
    "len(data)"
   ]
  },
  {
   "cell_type": "code",
   "execution_count": 15,
   "id": "brave-power",
   "metadata": {},
   "outputs": [],
   "source": [
    "message = \"\"\"\\\n",
    "Hi there {name}\\\n",
    "\"\"\""
   ]
  },
  {
   "cell_type": "code",
   "execution_count": 16,
   "id": "distant-inside",
   "metadata": {},
   "outputs": [
    {
     "data": {
      "text/plain": [
       "'Hi there {name}'"
      ]
     },
     "execution_count": 16,
     "metadata": {},
     "output_type": "execute_result"
    }
   ],
   "source": [
    "message"
   ]
  },
  {
   "cell_type": "code",
   "execution_count": 18,
   "id": "subsequent-patrick",
   "metadata": {},
   "outputs": [
    {
     "data": {
      "text/plain": [
       "'Hi there yash'"
      ]
     },
     "execution_count": 18,
     "metadata": {},
     "output_type": "execute_result"
    }
   ],
   "source": [
    "message.format(name = 'yash')"
   ]
  },
  {
   "cell_type": "code",
   "execution_count": 58,
   "id": "liable-marking",
   "metadata": {},
   "outputs": [
    {
     "data": {
      "text/plain": [
       "<Worksheet 'Sheet1' id:0>"
      ]
     },
     "execution_count": 58,
     "metadata": {},
     "output_type": "execute_result"
    }
   ],
   "source": [
    "sheet"
   ]
  },
  {
   "cell_type": "code",
   "execution_count": null,
   "id": "suffering-township",
   "metadata": {},
   "outputs": [],
   "source": []
  },
  {
   "cell_type": "code",
   "execution_count": null,
   "id": "reasonable-hundred",
   "metadata": {},
   "outputs": [],
   "source": []
  },
  {
   "cell_type": "code",
   "execution_count": 59,
   "id": "general-metro",
   "metadata": {},
   "outputs": [],
   "source": [
    "str = 'pulkit'"
   ]
  },
  {
   "cell_type": "code",
   "execution_count": 61,
   "id": "atomic-startup",
   "metadata": {},
   "outputs": [
    {
     "ename": "NameError",
     "evalue": "name 'substr' is not defined",
     "output_type": "error",
     "traceback": [
      "\u001b[1;31m---------------------------------------------------------------------------\u001b[0m",
      "\u001b[1;31mNameError\u001b[0m                                 Traceback (most recent call last)",
      "\u001b[1;32m<ipython-input-61-b1cf9488ae1a>\u001b[0m in \u001b[0;36m<module>\u001b[1;34m\u001b[0m\n\u001b[1;32m----> 1\u001b[1;33m \u001b[0msubstr\u001b[0m\u001b[1;33m(\u001b[0m\u001b[0mstr\u001b[0m\u001b[1;33m,\u001b[0m\u001b[1;34m'pul'\u001b[0m\u001b[1;33m)\u001b[0m\u001b[1;33m\u001b[0m\u001b[1;33m\u001b[0m\u001b[0m\n\u001b[0m",
      "\u001b[1;31mNameError\u001b[0m: name 'substr' is not defined"
     ]
    }
   ],
   "source": [
    "substr(str,'pul')"
   ]
  },
  {
   "cell_type": "code",
   "execution_count": 62,
   "id": "fatal-nowhere",
   "metadata": {},
   "outputs": [],
   "source": [
    "str = \"{name} is {var} and {var2}\""
   ]
  },
  {
   "cell_type": "code",
   "execution_count": 63,
   "id": "associate-violence",
   "metadata": {},
   "outputs": [
    {
     "data": {
      "text/plain": [
       "'sdjfd is 23 and 45'"
      ]
     },
     "execution_count": 63,
     "metadata": {},
     "output_type": "execute_result"
    }
   ],
   "source": [
    "str.format(name = 'sdjfd', var = 23 , var2 = 45, var3=90)"
   ]
  },
  {
   "cell_type": "code",
   "execution_count": 146,
   "id": "suspended-honduras",
   "metadata": {},
   "outputs": [],
   "source": [
    "entry = data[0]"
   ]
  },
  {
   "cell_type": "code",
   "execution_count": 147,
   "id": "institutional-monitor",
   "metadata": {},
   "outputs": [
    {
     "data": {
      "text/plain": [
       "{'Order_No': 1206333,\n",
       " 'Name': 'KalpAna sareesh',\n",
       " 'pulkitids': 'yashjaincp@gmail.com',\n",
       " 'Tracking_Details': 2582910068165,\n",
       " 'Ref_no_Refund': '',\n",
       " 'Amount': '',\n",
       " 'Template': 'Size 6 Exchanges',\n",
       " 'Email_Status': 'FALSE'}"
      ]
     },
     "execution_count": 147,
     "metadata": {},
     "output_type": "execute_result"
    }
   ],
   "source": [
    "entry"
   ]
  },
  {
   "cell_type": "code",
   "execution_count": 154,
   "id": "turned-liberty",
   "metadata": {},
   "outputs": [
    {
     "data": {
      "text/plain": [
       "('Order_No',\n",
       " 'Name',\n",
       " 'pulkitids',\n",
       " 'Tracking_Details',\n",
       " 'Ref_no_Refund',\n",
       " 'Amount',\n",
       " 'Template',\n",
       " 'Email_Status')"
      ]
     },
     "execution_count": 154,
     "metadata": {},
     "output_type": "execute_result"
    }
   ],
   "source": [
    "tuple(entry.keys())"
   ]
  },
  {
   "cell_type": "code",
   "execution_count": 10,
   "id": "blank-kennedy",
   "metadata": {},
   "outputs": [
    {
     "name": "stdout",
     "output_type": "stream",
     "text": [
      "None\n"
     ]
    }
   ],
   "source": [
    "print(os.getenv('SENDER_EMAIL'))"
   ]
  },
  {
   "cell_type": "code",
   "execution_count": 11,
   "id": "returning-invention",
   "metadata": {},
   "outputs": [],
   "source": [
    "os.getenv('SENDER_EMAIL')"
   ]
  },
  {
   "cell_type": "markdown",
   "id": "broad-entrepreneur",
   "metadata": {},
   "source": [
    "code testing to send html content within emails along with a proper subject line.\n"
   ]
  },
  {
   "cell_type": "code",
   "execution_count": 6,
   "id": "exact-actress",
   "metadata": {},
   "outputs": [],
   "source": [
    "import smtplib, ssl\n",
    "from email.mime.text import MIMEText\n",
    "from email.mime.multipart import MIMEMultipart\n",
    "\n",
    "sender_email = os.getenv(\"SENDER_EMAIL\")\n",
    "reciever_email = \"2019ucs0073@iitjammu.ac.in\"\n",
    "password = 'MNIPMT@CMC'\n",
    "\n",
    "message = MIMEMultipart(\"alternative\")\n",
    "message[\"Subject\"] = \"Html testing\"\n",
    "message[\"From\"] = sender_email\n",
    "message[\"To\"] = reciever_email"
   ]
  },
  {
   "cell_type": "code",
   "execution_count": 7,
   "id": "relevant-short",
   "metadata": {},
   "outputs": [
    {
     "data": {
      "text/plain": [
       "<email.mime.multipart.MIMEMultipart at 0x27eb9795c08>"
      ]
     },
     "execution_count": 7,
     "metadata": {},
     "output_type": "execute_result"
    }
   ],
   "source": [
    "message"
   ]
  },
  {
   "cell_type": "code",
   "execution_count": 12,
   "id": "removed-bandwidth",
   "metadata": {},
   "outputs": [],
   "source": [
    "text = \"\"\"\\\n",
    "Hi, {name}\n",
    "How are you, track your order at https://google.com/{tracking_details} \n",
    "bold text \"\"\"\n",
    "\n",
    "html = \"\"\"\\\n",
    "<html>\n",
    "    <body>\n",
    "        <p>Hi,<br>\n",
    "        How are you?<br>\n",
    "        Track your order <a href = \"https://google.com/{tracking_details}\">here</a><br>\n",
    "        <b>bold text</b>\n",
    "        </p>\n",
    "    </body>\n",
    "</html>\n",
    "\"\"\""
   ]
  },
  {
   "cell_type": "code",
   "execution_count": 13,
   "id": "moving-sugar",
   "metadata": {},
   "outputs": [
    {
     "data": {
      "text/plain": [
       "'Hi, yash\\nHow are you, track your order at https://google.com/12345 \\nbold text '"
      ]
     },
     "execution_count": 13,
     "metadata": {},
     "output_type": "execute_result"
    }
   ],
   "source": [
    "text.format(name = 'yash', tracking_details = 12345)"
   ]
  },
  {
   "cell_type": "code",
   "execution_count": 14,
   "id": "metallic-contamination",
   "metadata": {},
   "outputs": [
    {
     "data": {
      "text/plain": [
       "'<html>\\n    <body>\\n        <p>Hi,<br>\\n        How are you?<br>\\n        Track your order <a href = \"https://google.com/12345\">here</a><br>\\n        <b>bold text</b>\\n        </p>\\n    </body>\\n</html>\\n'"
      ]
     },
     "execution_count": 14,
     "metadata": {},
     "output_type": "execute_result"
    }
   ],
   "source": [
    "html.format(name = 'yash', tracking_details = 12345)"
   ]
  },
  {
   "cell_type": "code",
   "execution_count": 15,
   "id": "wired-standing",
   "metadata": {},
   "outputs": [],
   "source": [
    "part1 = MIMEText(text, \"plain\")\n",
    "part2 = MIMEText(html, \"html\")\n",
    "\n",
    "message.attach(part1)\n",
    "message.attach(part2)"
   ]
  },
  {
   "cell_type": "code",
   "execution_count": 16,
   "id": "powered-northern",
   "metadata": {},
   "outputs": [],
   "source": [
    "context = ssl.create_default_context()\n",
    "with smtplib.SMTP_SSL(\"smtp.gmail.com\", 465, context = context) as server:\n",
    "    server.login(sender_email, password)\n",
    "    server.sendmail(sender_email, reciever_email, message.as_string())"
   ]
  },
  {
   "cell_type": "markdown",
   "id": "promising-excuse",
   "metadata": {},
   "source": [
    "Sendgrid api testing"
   ]
  },
  {
   "cell_type": "code",
   "execution_count": 16,
   "id": "fixed-quebec",
   "metadata": {},
   "outputs": [
    {
     "data": {
      "text/plain": [
       "True"
      ]
     },
     "execution_count": 16,
     "metadata": {},
     "output_type": "execute_result"
    }
   ],
   "source": [
    "import sendgrid\n",
    "import os\n",
    "from dotenv import load_dotenv\n",
    "load_dotenv()"
   ]
  },
  {
   "cell_type": "code",
   "execution_count": 17,
   "id": "sensitive-return",
   "metadata": {},
   "outputs": [],
   "source": [
    "from sendgrid import SendGridAPIClient as sgclient\n",
    "from sendgrid.helpers.mail import Mail"
   ]
  },
  {
   "cell_type": "code",
   "execution_count": 21,
   "id": "daily-negotiation",
   "metadata": {},
   "outputs": [],
   "source": [
    "mails_list = [\"pulkitmahajan0402@gmail.com\", \"2019ume0203@iitjammu.ac.in\", \"2019ucs0073@iitjammu.ac.in\"]\n",
    "message = Mail(from_email = \"2019ucs0073@iitjammu.ac.in\"\n",
    "              ,to_emails = mails_list\n",
    "              ,subject = \"INCLUDING SendGrid API for beta release 2.0\"\n",
    "              ,plain_text_content = \"was not that hard to use\"\n",
    "              ,html_content = \"<b>but was also rather simple.</b>\"\n",
    "              )"
   ]
  },
  {
   "cell_type": "code",
   "execution_count": 24,
   "id": "coastal-review",
   "metadata": {},
   "outputs": [],
   "source": [
    "key = os.getenv(\"SENDGRID_API_KEY\")"
   ]
  },
  {
   "cell_type": "code",
   "execution_count": 25,
   "id": "minus-celebrity",
   "metadata": {},
   "outputs": [],
   "source": [
    "sg = sgclient(key)\n",
    "response = sg.send(message)"
   ]
  },
  {
   "cell_type": "code",
   "execution_count": null,
   "id": "radio-things",
   "metadata": {},
   "outputs": [],
   "source": []
  }
 ],
 "metadata": {
  "kernelspec": {
   "display_name": "Python 3",
   "language": "python",
   "name": "python3"
  },
  "language_info": {
   "codemirror_mode": {
    "name": "ipython",
    "version": 3
   },
   "file_extension": ".py",
   "mimetype": "text/x-python",
   "name": "python",
   "nbconvert_exporter": "python",
   "pygments_lexer": "ipython3",
   "version": "3.7.8"
  }
 },
 "nbformat": 4,
 "nbformat_minor": 5
}
